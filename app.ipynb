{
 "cells": [
  {
   "cell_type": "code",
   "execution_count": 1,
   "id": "67e99038-8c2e-4200-8e97-e81da12b7824",
   "metadata": {},
   "outputs": [],
   "source": [
    "import numpy as np\n",
    "from flask import Flask, request, render_template\n",
    "import joblib"
   ]
  },
  {
   "cell_type": "code",
   "execution_count": 2,
   "id": "454a2653-7afc-45b0-b4de-608088451ebc",
   "metadata": {},
   "outputs": [],
   "source": [
    "app = Flask(__name__)\n",
    "model = joblib.load('models/random_forest_reg_with_hyperparameters_model.pkl')"
   ]
  },
  {
   "cell_type": "code",
   "execution_count": 3,
   "id": "e4c0c0d0-e889-443a-bf57-4e31c6a288ae",
   "metadata": {},
   "outputs": [],
   "source": [
    "@app.route('/')\n",
    "def home():\n",
    "    return render_template('index.html')"
   ]
  },
  {
   "cell_type": "code",
   "execution_count": 4,
   "id": "2b2f525d-462b-4bb9-ace7-6261819249da",
   "metadata": {},
   "outputs": [],
   "source": [
    "@app.route('/predict',methods=['POST'])\n",
    "def predict():\n",
    "    column_names = [\n",
    "        'Age', 'Heart Rate', 'Diabetes', 'Family History', 'Smoking', \n",
    "        'Obesity', 'Alcohol Consumption', 'Exercise Hours Per Week', \n",
    "        'Previous Heart Problems', 'Stress Level', 'Sedentary Hours Per Day', \n",
    "        'BMI', 'Triglycerides', 'Sleep Hours Per Day', 'Systolic', \n",
    "        'Diastolic', 'Sex_Female', 'Sex_Male', 'Diet_Average', \n",
    "        'Diet_Healthy', 'Diet_Unhealthy', 'Cholesterol_Normal', \n",
    "        'Cholesterol_At Risk', 'Cholesterol_High', 'Cholesterol_Dangerous'\n",
    "    ]\n",
    "    form_data = [float(x) for x in request.form.values()]\n",
    "    features = [np.array(form_data)]\n",
    "    feature_dict = {column: value for column, value in zip(column_names, form_data)}\n",
    "    \n",
    "    print(feature_dict)\n",
    "    prediction = model.predict(features)\n",
    "    print(\"Raw prediction:\", prediction)\n",
    "\n",
    "\n",
    "    binary_prediction = (prediction >= 0.5).astype(int)[0] \n",
    "\n",
    "    if binary_prediction == 1:\n",
    "        message = f\"You are at risk of heart attack ({prediction[0] * 100:.2f}%).\"\n",
    "    else:\n",
    "        message = f\"You are not at risk of heart attack ({prediction[0] * 100:.2f}%).\"\n",
    "\n",
    "    \n",
    "    return render_template('index.html', attack_prediction= message)\n"
   ]
  },
  {
   "cell_type": "code",
   "execution_count": null,
   "id": "354bd46a-2b49-4864-a8d7-7d7ca21931a8",
   "metadata": {},
   "outputs": [
    {
     "name": "stdout",
     "output_type": "stream",
     "text": [
      " * Serving Flask app '__main__'\n",
      " * Debug mode: off\n"
     ]
    },
    {
     "name": "stderr",
     "output_type": "stream",
     "text": [
      "WARNING: This is a development server. Do not use it in a production deployment. Use a production WSGI server instead.\n",
      " * Running on http://127.0.0.1:5000\n",
      "Press CTRL+C to quit\n",
      "127.0.0.1 - - [18/Feb/2025 09:37:39] \"GET / HTTP/1.1\" 200 -\n",
      "127.0.0.1 - - [18/Feb/2025 09:37:40] \"GET /static/TPlogo.png HTTP/1.1\" 200 -\n",
      "127.0.0.1 - - [18/Feb/2025 09:37:40] \"GET /static/background.jpg HTTP/1.1\" 200 -\n",
      "127.0.0.1 - - [18/Feb/2025 09:37:41] \"GET /favicon.ico HTTP/1.1\" 404 -\n",
      "127.0.0.1 - - [18/Feb/2025 09:39:34] \"POST /predict HTTP/1.1\" 200 -\n",
      "127.0.0.1 - - [18/Feb/2025 09:39:34] \"GET /static/TPlogo.png HTTP/1.1\" 304 -\n"
     ]
    },
    {
     "name": "stdout",
     "output_type": "stream",
     "text": [
      "{'Age': 18.0, 'Heart Rate': 70.0, 'Diabetes': 0.0, 'Family History': 0.0, 'Smoking': 0.0, 'Obesity': 0.0, 'Alcohol Consumption': 1.0, 'Exercise Hours Per Week': 14.0, 'Previous Heart Problems': 0.0, 'Stress Level': 5.0, 'Sedentary Hours Per Day': 8.0, 'BMI': 20.0, 'Triglycerides': 120.0, 'Sleep Hours Per Day': 6.0, 'Systolic': 70.0, 'Diastolic': 70.0, 'Sex_Female': 0.0, 'Sex_Male': 1.0, 'Diet_Average': 0.0, 'Diet_Healthy': 0.0, 'Diet_Unhealthy': 1.0, 'Cholesterol_Normal': 1.0, 'Cholesterol_At Risk': 0.0, 'Cholesterol_High': 0.0, 'Cholesterol_Dangerous': 0.0}\n",
      "Raw prediction: [0.53892787]\n"
     ]
    },
    {
     "name": "stderr",
     "output_type": "stream",
     "text": [
      "127.0.0.1 - - [18/Feb/2025 09:39:34] \"GET /static/background.jpg HTTP/1.1\" 304 -\n",
      "127.0.0.1 - - [18/Feb/2025 09:42:22] \"POST /predict HTTP/1.1\" 200 -\n",
      "127.0.0.1 - - [18/Feb/2025 09:42:22] \"GET /static/TPlogo.png HTTP/1.1\" 304 -\n"
     ]
    },
    {
     "name": "stdout",
     "output_type": "stream",
     "text": [
      "{'Age': 19.0, 'Heart Rate': 60.0, 'Diabetes': 0.0, 'Family History': 1.0, 'Smoking': 0.0, 'Obesity': 0.0, 'Alcohol Consumption': 1.0, 'Exercise Hours Per Week': 21.0, 'Previous Heart Problems': 0.0, 'Stress Level': 8.0, 'Sedentary Hours Per Day': 12.0, 'BMI': 20.0, 'Triglycerides': 120.0, 'Sleep Hours Per Day': 10.0, 'Systolic': 60.0, 'Diastolic': 60.0, 'Sex_Female': 1.0, 'Sex_Male': 0.0, 'Diet_Average': 0.0, 'Diet_Healthy': 0.0, 'Diet_Unhealthy': 1.0, 'Cholesterol_Normal': 1.0, 'Cholesterol_At Risk': 0.0, 'Cholesterol_High': 0.0, 'Cholesterol_Dangerous': 0.0}\n",
      "Raw prediction: [0.52348127]\n"
     ]
    },
    {
     "name": "stderr",
     "output_type": "stream",
     "text": [
      "127.0.0.1 - - [18/Feb/2025 09:42:23] \"GET /static/background.jpg HTTP/1.1\" 304 -\n",
      "127.0.0.1 - - [18/Feb/2025 09:44:28] \"POST /predict HTTP/1.1\" 200 -\n",
      "127.0.0.1 - - [18/Feb/2025 09:44:28] \"GET /static/TPlogo.png HTTP/1.1\" 304 -\n"
     ]
    },
    {
     "name": "stdout",
     "output_type": "stream",
     "text": [
      "{'Age': 100.0, 'Heart Rate': 150.0, 'Diabetes': 1.0, 'Family History': 1.0, 'Smoking': 1.0, 'Obesity': 1.0, 'Alcohol Consumption': 1.0, 'Exercise Hours Per Week': 0.0, 'Previous Heart Problems': 1.0, 'Stress Level': 10.0, 'Sedentary Hours Per Day': 24.0, 'BMI': 30.0, 'Triglycerides': 200.0, 'Sleep Hours Per Day': 1.0, 'Systolic': 180.0, 'Diastolic': 180.0, 'Sex_Female': 0.0, 'Sex_Male': 1.0, 'Diet_Average': 0.0, 'Diet_Healthy': 0.0, 'Diet_Unhealthy': 1.0, 'Cholesterol_Normal': 0.0, 'Cholesterol_At Risk': 0.0, 'Cholesterol_High': 0.0, 'Cholesterol_Dangerous': 1.0}\n",
      "Raw prediction: [0.46806054]\n"
     ]
    },
    {
     "name": "stderr",
     "output_type": "stream",
     "text": [
      "127.0.0.1 - - [18/Feb/2025 09:44:29] \"GET /static/background.jpg HTTP/1.1\" 304 -\n",
      "127.0.0.1 - - [18/Feb/2025 09:45:42] \"POST /predict HTTP/1.1\" 200 -\n",
      "127.0.0.1 - - [18/Feb/2025 09:45:42] \"GET /static/TPlogo.png HTTP/1.1\" 304 -\n"
     ]
    },
    {
     "name": "stdout",
     "output_type": "stream",
     "text": [
      "{'Age': 100.0, 'Heart Rate': 150.0, 'Diabetes': 1.0, 'Family History': 1.0, 'Smoking': 1.0, 'Obesity': 1.0, 'Alcohol Consumption': 1.0, 'Exercise Hours Per Week': 0.0, 'Previous Heart Problems': 1.0, 'Stress Level': 10.0, 'Sedentary Hours Per Day': 24.0, 'BMI': 30.0, 'Triglycerides': 200.0, 'Sleep Hours Per Day': 1.0, 'Systolic': 180.0, 'Diastolic': 180.0, 'Sex_Female': 0.0, 'Sex_Male': 1.0, 'Diet_Average': 0.0, 'Diet_Healthy': 0.0, 'Diet_Unhealthy': 1.0, 'Cholesterol_Normal': 0.0, 'Cholesterol_At Risk': 0.0, 'Cholesterol_High': 0.0, 'Cholesterol_Dangerous': 1.0}\n",
      "Raw prediction: [0.46806054]\n"
     ]
    },
    {
     "name": "stderr",
     "output_type": "stream",
     "text": [
      "127.0.0.1 - - [18/Feb/2025 09:45:42] \"GET /static/background.jpg HTTP/1.1\" 304 -\n",
      "127.0.0.1 - - [18/Feb/2025 09:45:54] \"GET / HTTP/1.1\" 200 -\n",
      "127.0.0.1 - - [18/Feb/2025 09:45:54] \"GET /static/TPlogo.png HTTP/1.1\" 304 -\n",
      "127.0.0.1 - - [18/Feb/2025 09:45:54] \"GET /static/background.jpg HTTP/1.1\" 304 -\n",
      "127.0.0.1 - - [18/Feb/2025 10:02:57] \"GET / HTTP/1.1\" 200 -\n",
      "127.0.0.1 - - [18/Feb/2025 10:02:57] \"GET /static/TPlogo.png HTTP/1.1\" 304 -\n",
      "127.0.0.1 - - [18/Feb/2025 10:02:57] \"GET /static/background.jpg HTTP/1.1\" 304 -\n",
      "127.0.0.1 - - [18/Feb/2025 10:08:32] \"POST /predict HTTP/1.1\" 200 -\n",
      "127.0.0.1 - - [18/Feb/2025 10:08:32] \"GET /static/TPlogo.png HTTP/1.1\" 304 -\n"
     ]
    },
    {
     "name": "stdout",
     "output_type": "stream",
     "text": [
      "{'Age': 18.0, 'Heart Rate': 70.0, 'Diabetes': 0.0, 'Family History': 1.0, 'Smoking': 0.0, 'Obesity': 0.0, 'Alcohol Consumption': 0.0, 'Exercise Hours Per Week': 1.0, 'Previous Heart Problems': 0.0, 'Stress Level': 10.0, 'Sedentary Hours Per Day': 18.0, 'BMI': 23.0, 'Triglycerides': 150.0, 'Sleep Hours Per Day': 10.0, 'Systolic': 70.0, 'Diastolic': 70.0, 'Sex_Female': 1.0, 'Sex_Male': 0.0, 'Diet_Average': 1.0, 'Diet_Healthy': 0.0, 'Diet_Unhealthy': 0.0, 'Cholesterol_Normal': 1.0, 'Cholesterol_At Risk': 0.0, 'Cholesterol_High': 0.0, 'Cholesterol_Dangerous': 0.0}\n",
      "Raw prediction: [0.54594731]\n"
     ]
    },
    {
     "name": "stderr",
     "output_type": "stream",
     "text": [
      "127.0.0.1 - - [18/Feb/2025 10:08:33] \"GET /static/background.jpg HTTP/1.1\" 304 -\n",
      "127.0.0.1 - - [18/Feb/2025 10:09:27] \"POST /predict HTTP/1.1\" 200 -\n",
      "127.0.0.1 - - [18/Feb/2025 10:09:27] \"GET /static/TPlogo.png HTTP/1.1\" 304 -\n"
     ]
    },
    {
     "name": "stdout",
     "output_type": "stream",
     "text": [
      "{'Age': 90.0, 'Heart Rate': 70.0, 'Diabetes': 0.0, 'Family History': 0.0, 'Smoking': 0.0, 'Obesity': 0.0, 'Alcohol Consumption': 0.0, 'Exercise Hours Per Week': 1.0, 'Previous Heart Problems': 0.0, 'Stress Level': 10.0, 'Sedentary Hours Per Day': 6.0, 'BMI': 23.0, 'Triglycerides': 150.0, 'Sleep Hours Per Day': 12.0, 'Systolic': 60.0, 'Diastolic': 60.0, 'Sex_Female': 1.0, 'Sex_Male': 0.0, 'Diet_Average': 0.0, 'Diet_Healthy': 1.0, 'Diet_Unhealthy': 0.0, 'Cholesterol_Normal': 1.0, 'Cholesterol_At Risk': 0.0, 'Cholesterol_High': 0.0, 'Cholesterol_Dangerous': 0.0}\n",
      "Raw prediction: [0.5029338]\n"
     ]
    },
    {
     "name": "stderr",
     "output_type": "stream",
     "text": [
      "127.0.0.1 - - [18/Feb/2025 10:09:27] \"GET /static/background.jpg HTTP/1.1\" 304 -\n"
     ]
    }
   ],
   "source": [
    "if __name__ == '__main__':\n",
    "    app.run(debug=False)"
   ]
  }
 ],
 "metadata": {
  "kernelspec": {
   "display_name": "Python 3 (ipykernel)",
   "language": "python",
   "name": "python3"
  },
  "language_info": {
   "codemirror_mode": {
    "name": "ipython",
    "version": 3
   },
   "file_extension": ".py",
   "mimetype": "text/x-python",
   "name": "python",
   "nbconvert_exporter": "python",
   "pygments_lexer": "ipython3",
   "version": "3.10.15"
  }
 },
 "nbformat": 4,
 "nbformat_minor": 5
}
